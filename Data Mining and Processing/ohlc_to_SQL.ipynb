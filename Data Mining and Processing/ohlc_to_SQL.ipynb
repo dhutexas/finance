{
 "cells": [
  {
   "cell_type": "markdown",
   "id": "technological-philosophy",
   "metadata": {},
   "source": [
    "## OHLC Stock Data\n",
    "Gather OHLC (open, high, low, close) data for selected stocks from Yahoo Finance. The following code provides two methods of data collection.\n",
    "1. Pull the full OHLC data for all available timeframes for each stock symbol in a list.\n",
    "2. Pull OHLC data for specified dates for each stock symbol in a list. (Useful for appending existing SQL database.)"
   ]
  },
  {
   "cell_type": "code",
   "execution_count": 1,
   "id": "catholic-moderator",
   "metadata": {},
   "outputs": [],
   "source": [
    "import pandas as pd\n",
    "import numpy as np\n",
    "from datetime import date\n",
    "import yfinance as yf\n",
    "\n",
    "from sqlalchemy import create_engine\n",
    "from sqlalchemy_utils import database_exists, create_database\n",
    "import psycopg2\n",
    "\n",
    "# connect to Docker SQL database\n",
    "#engine = create_engine('postgresql+psycopg2://postgres:########@###.###.##.##:54320/finance')"
   ]
  },
  {
   "cell_type": "markdown",
   "id": "standing-majority",
   "metadata": {},
   "source": [
    "#### Get Complete OHLC Data\n",
    "Using the S&P 500 (pulled from existing SQL database), collect OHLC data for each stock symbol in a list and write data to SQL database.\n",
    "\n",
    "Function takes any list of equity symbols, so these could be a list of symbols in an ETF or companies that you own in a portfolio."
   ]
  },
  {
   "cell_type": "code",
   "execution_count": 2,
   "id": "through-airfare",
   "metadata": {},
   "outputs": [
    {
     "data": {
      "text/plain": [
       "['AAL', 'AAP', 'AAPL', 'ABBV', 'ABC', 'ABMD', 'ABT', 'ACN', 'ADBE']"
      ]
     },
     "execution_count": 2,
     "metadata": {},
     "output_type": "execute_result"
    }
   ],
   "source": [
    "# grab the sp500\n",
    "stocks = pd.read_sql(\"SELECT DISTINCT symbol FROM equity_info.sp500\", con = engine)\n",
    "symbols = list(stocks['symbol'].sort_values())\n",
    "\n",
    "# check contents\n",
    "symbols[1:10]"
   ]
  },
  {
   "cell_type": "code",
   "execution_count": null,
   "id": "illegal-blake",
   "metadata": {},
   "outputs": [],
   "source": [
    "import time\n",
    "for i in symbols[0:len(symbols)]:\n",
    "    \n",
    "    try:\n",
    "        ohlc = yf.Ticker(i).history(period=\"max\")\n",
    "        ohlc.to_sql(name = i, schema = 'ohlc_yf', con=engine, if_exists='append')\n",
    "        time.sleep(.5)\n",
    "    \n",
    "    except:\n",
    "        print('Error obtaining OHLC for ' + str(i))\n",
    "        pass"
   ]
  },
  {
   "cell_type": "markdown",
   "id": "unlimited-cowboy",
   "metadata": {},
   "source": [
    "#### Update OHLC Data\n",
    "After running the code above, for the future only new data need to be collected and added to the database. The following function gathers a list of all tables in a SQL database of OHLC data to get a list of equities for which data already exist. Then, a "
   ]
  },
  {
   "cell_type": "code",
   "execution_count": null,
   "id": "suitable-competition",
   "metadata": {},
   "outputs": [],
   "source": [
    "# what do we have data for already in database? - list all tables in schema\n",
    "db_tables = pd.read_sql(\"SELECT table_name FROM information_schema.tables \\\n",
    "       WHERE table_schema = 'ohlc_yf'\", con = engine)\n",
    "tables = db_tables['table_name'].tolist()\n",
    "tables[0:10]"
   ]
  },
  {
   "cell_type": "code",
   "execution_count": null,
   "id": "adverse-player",
   "metadata": {},
   "outputs": [],
   "source": [
    "# define variables for use in functions below\n",
    "last_dates = list()\n",
    "tickers_list = list()\n",
    "today = list()\n",
    "\n",
    "# list all tables in schema of OHLC data\n",
    "db_tables = pd.read_sql(\"SELECT table_name FROM information_schema.tables \\\n",
    "       WHERE table_schema = 'ohlc_yf'\", con = engine)\n",
    "tables = db_tables['table_name'].tolist()\n",
    "\n",
    "# turn list of tables into a dataframe of stock symbol, last date of data, today's date\n",
    "for i in tables:\n",
    "    \n",
    "    try:\n",
    "        ticker_df = pd.read_sql_table(i, engine, schema='ohlc')\n",
    "        \n",
    "        last_date = ticker_df['Date'].max()\n",
    "        ticker_symbol = i\n",
    "        \n",
    "        last_dates.append(last_date)\n",
    "        tickers_list.append(ticker_symbol)\n",
    "        today.append(date.today())\n",
    "    \n",
    "    except:\n",
    "        print('Error obtaining data for ' + str(i))\n",
    "        pass\n",
    "\n",
    "\n",
    "# append these lists into a dataframe\n",
    "df = pd.DataFrame(list(zip(tickers_list, last_dates, today)),\n",
    "                 columns = ['symbol','last_date','today'])\n",
    "\n",
    "df"
   ]
  },
  {
   "cell_type": "code",
   "execution_count": null,
   "id": "surprising-approach",
   "metadata": {},
   "outputs": [],
   "source": [
    "# for each ticker, grab data for the missing dates up to today and paste them to sql database\n",
    "for a, b, c in df.itertuples(index=False):\n",
    "    \n",
    "    try:\n",
    "        ohlc = yf.Ticker(a).history(start = b, end = c)\n",
    "        ohlc.to_sql(name = a, schema = 'ohlc_yf', con=engine, if_exists='append')\n",
    "        time.sleep(.5)\n",
    "    \n",
    "    except:\n",
    "        print('Error obtaining OHLC for ' + str(a))\n",
    "        pass"
   ]
  },
  {
   "cell_type": "code",
   "execution_count": null,
   "id": "enclosed-family",
   "metadata": {},
   "outputs": [],
   "source": [
    "# read SQL data into python to verify function worked using first symbol in the dataframe\n",
    "pd.read_sql_table(table_name = df.iloc[0,0], schema='ohlc_yf', con=engine)"
   ]
  },
  {
   "cell_type": "code",
   "execution_count": null,
   "id": "soviet-desert",
   "metadata": {},
   "outputs": [],
   "source": []
  }
 ],
 "metadata": {
  "kernelspec": {
   "display_name": "Python 3",
   "language": "python",
   "name": "python3"
  },
  "language_info": {
   "codemirror_mode": {
    "name": "ipython",
    "version": 3
   },
   "file_extension": ".py",
   "mimetype": "text/x-python",
   "name": "python",
   "nbconvert_exporter": "python",
   "pygments_lexer": "ipython3",
   "version": "3.8.8"
  }
 },
 "nbformat": 4,
 "nbformat_minor": 5
}
